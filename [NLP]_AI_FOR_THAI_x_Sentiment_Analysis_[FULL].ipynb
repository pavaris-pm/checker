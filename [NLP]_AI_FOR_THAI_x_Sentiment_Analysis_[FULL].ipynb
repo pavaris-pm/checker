{
  "cells": [
    {
      "cell_type": "markdown",
      "metadata": {
        "id": "r69yoeduryH8"
      },
      "source": [
        "# Download the Wisesight Sentiment Analysis Dataset"
      ]
    },
    {
      "cell_type": "code",
      "execution_count": 1,
      "metadata": {
        "colab": {
          "base_uri": "https://localhost:8080/"
        },
        "id": "qBs3Y7B_VCjE",
        "outputId": "1870a272-3b8c-4626-9294-83b3af3f5ca0"
      },
      "outputs": [
        {
          "name": "stdout",
          "output_type": "stream",
          "text": [
            "\u001b[2K     \u001b[90m━━━━━━━━━━━━━━━━━━━━━━━━━━━━━━━━━━━━━━━━\u001b[0m \u001b[32m493.7/493.7 kB\u001b[0m \u001b[31m4.6 MB/s\u001b[0m eta \u001b[36m0:00:00\u001b[0m\n",
            "\u001b[2K     \u001b[90m━━━━━━━━━━━━━━━━━━━━━━━━━━━━━━━━━━━━━━━━\u001b[0m \u001b[32m84.1/84.1 kB\u001b[0m \u001b[31m7.9 MB/s\u001b[0m eta \u001b[36m0:00:00\u001b[0m\n",
            "\u001b[2K     \u001b[90m━━━━━━━━━━━━━━━━━━━━━━━━━━━━━━━━━━━━━━━━\u001b[0m \u001b[32m115.3/115.3 kB\u001b[0m \u001b[31m11.8 MB/s\u001b[0m eta \u001b[36m0:00:00\u001b[0m\n",
            "\u001b[2K     \u001b[90m━━━━━━━━━━━━━━━━━━━━━━━━━━━━━━━━━━━━━━━━\u001b[0m \u001b[32m134.8/134.8 kB\u001b[0m \u001b[31m16.2 MB/s\u001b[0m eta \u001b[36m0:00:00\u001b[0m\n",
            "\u001b[2K     \u001b[90m━━━━━━━━━━━━━━━━━━━━━━━━━━━━━━━━━━━━━━━━\u001b[0m \u001b[32m311.2/311.2 kB\u001b[0m \u001b[31m27.8 MB/s\u001b[0m eta \u001b[36m0:00:00\u001b[0m\n",
            "\u001b[?25hCloning into 'checker'...\n",
            "remote: Enumerating objects: 7, done.\u001b[K\n",
            "remote: Counting objects: 100% (7/7), done.\u001b[K\n",
            "remote: Compressing objects: 100% (6/6), done.\u001b[K\n",
            "remote: Total 7 (delta 1), reused 0 (delta 0), pack-reused 0\u001b[K\n",
            "Receiving objects: 100% (7/7), 4.86 KiB | 1.62 MiB/s, done.\n",
            "Resolving deltas: 100% (1/1), done.\n"
          ]
        }
      ],
      "source": [
        "!pip -q install datasets evaluate\n",
        "!git clone https://github.com/pavaris-pm/checker.git"
      ]
    },
    {
      "cell_type": "code",
      "execution_count": 2,
      "metadata": {
        "id": "QFrzr0RM-8em"
      },
      "outputs": [],
      "source": [
        "from datasets import load_dataset, load_metric\n",
        "import requests\n",
        "from typing import List, Dict\n",
        "import numpy as np\n",
        "from tqdm.auto import tqdm\n",
        "import pandas as pd\n",
        "import time"
      ]
    },
    {
      "cell_type": "code",
      "execution_count": 3,
      "metadata": {
        "id": "PCte_WEorpfO"
      },
      "outputs": [],
      "source": [
        "data_df = pd.read_csv('/content/checker/sentiment_200.csv')"
      ]
    },
    {
      "cell_type": "code",
      "execution_count": 4,
      "metadata": {
        "colab": {
          "base_uri": "https://localhost:8080/",
          "height": 220,
          "referenced_widgets": [
            "df7d43922c3341d083a31c68a65dd459",
            "21ad34b665a14c1f8bae5d31afc732b6",
            "9622f28e08e54c4fb54ffaf9c428973f",
            "627b790094e1497ca5235db6539b7f16",
            "7687c318652949cbb40d63a269ec52e1",
            "7367f75ddb744e74ab781d2f72529266",
            "2bf402535a5f46b6ba93d97bb043e293",
            "b027323291b449c096d1e5d2edaa0392",
            "f2c5a0b0d6544b8fb3633e55113918fd",
            "6eadc9ca673c41b0a465207ed3038e30",
            "b4c3b3d63c8c47ac98a1eee400df9094",
            "e74189291d834e88b7cf20c3108970d7",
            "cdd722d8074f41d59ce28893bc971769",
            "503bfe64af8f4c49a9869d0ff564c3f2",
            "441492a0b3b44c34b73f71ea4e276759",
            "33fd9fd392584285b7512b745e9ec63d",
            "286f7a88be854b8fb16be3d70e039a8d",
            "c06e7e17347740a681e3675515393d68",
            "1ea5872a0bde433093170d956ea677a7",
            "e4d72016e2be418989a4a32b78acd753",
            "59cdb3f551444abe8513b36834692738",
            "b8ff2283d49e4ea3b90fac952f61aee1",
            "0700d422a71a44f4916709f6ca3b8022",
            "487cd3cf2fff4fdf8e18665b9a91030f",
            "1c5482eb9a424e6697b4d1d89c187d11",
            "c5dc8e22742c48208d8371ae8886497d",
            "5765f23884ed4091bb92a1d89c294386",
            "06d1b40aa7c24ebeafe522fb95d0e5b6",
            "87ceff71c9974c1e953f4c7cc6fb1bb1",
            "bb1aa5ec668b4279816870b675c46f12",
            "98a60ea0b61b49e7a2884af13140e224",
            "d4af814c609a4bb3ae2d32738e10e165",
            "9971627c9bbb4086835a4a8ddfb5a718"
          ]
        },
        "id": "noWUsQ_zXjJC",
        "outputId": "38584d15-cd89-48dc-a05a-504ecfc9bf2c"
      },
      "outputs": [
        {
          "data": {
            "application/vnd.jupyter.widget-view+json": {
              "model_id": "df7d43922c3341d083a31c68a65dd459",
              "version_major": 2,
              "version_minor": 0
            },
            "text/plain": [
              "Downloading data files:   0%|          | 0/1 [00:00<?, ?it/s]"
            ]
          },
          "metadata": {},
          "output_type": "display_data"
        },
        {
          "data": {
            "application/vnd.jupyter.widget-view+json": {
              "model_id": "e74189291d834e88b7cf20c3108970d7",
              "version_major": 2,
              "version_minor": 0
            },
            "text/plain": [
              "Extracting data files:   0%|          | 0/1 [00:00<?, ?it/s]"
            ]
          },
          "metadata": {},
          "output_type": "display_data"
        },
        {
          "data": {
            "application/vnd.jupyter.widget-view+json": {
              "model_id": "0700d422a71a44f4916709f6ca3b8022",
              "version_major": 2,
              "version_minor": 0
            },
            "text/plain": [
              "Generating train split: 0 examples [00:00, ? examples/s]"
            ]
          },
          "metadata": {},
          "output_type": "display_data"
        },
        {
          "data": {
            "text/plain": [
              "DatasetDict({\n",
              "    train: Dataset({\n",
              "        features: ['texts', 'category'],\n",
              "        num_rows: 30\n",
              "    })\n",
              "})"
            ]
          },
          "execution_count": 4,
          "metadata": {},
          "output_type": "execute_result"
        }
      ],
      "source": [
        "# format it to huggingface dataset\n",
        "dataset = load_dataset('csv', data_files={'train': \"/content/checker/sentiment_200.csv\"})\n",
        "dataset"
      ]
    },
    {
      "cell_type": "code",
      "execution_count": null,
      "metadata": {},
      "outputs": [],
      "source": [
        "# setup true labels for evaluation\n",
        "true_labels = [dataset['train'][i]['category'] for i in range(30)]"
      ]
    },
    {
      "cell_type": "markdown",
      "metadata": {
        "id": "FbpDEhANVAE5"
      },
      "source": [
        "# Setup"
      ]
    },
    {
      "cell_type": "code",
      "execution_count": 5,
      "metadata": {
        "id": "Exby1ocQM-Xl"
      },
      "outputs": [],
      "source": [
        "def convert(number_preds: List[int])->List[str]:\n",
        "  tables = {\n",
        "      0 : 'positive',\n",
        "      1 : 'neutral',\n",
        "      2 : 'negative',\n",
        "  }\n",
        "  converted = []\n",
        "  for elem in number_preds:\n",
        "    converted.append(tables[elem])\n",
        "\n",
        "  return converted"
      ]
    },
    {
      "cell_type": "code",
      "execution_count": 6,
      "metadata": {
        "id": "nLz2UvzjNtX6"
      },
      "outputs": [],
      "source": [
        "def evaluate(predictions: List):\n",
        "  references = true_labels\n",
        "  predictions = predictions\n",
        "\n",
        "  wrong_ans = []\n",
        "  correct = 0\n",
        "  for idx in range(len(predictions)):\n",
        "    if references[idx] == predictions[idx]:\n",
        "      correct += 1\n",
        "    else:\n",
        "      wrong_ans.append(str(idx))\n",
        "\n",
        "  acc = correct/len(predictions)\n",
        "\n",
        "  stats = {\n",
        "      'Accuracy (ความแม่นยำ)' : f'{acc*100} %',\n",
        "      'Correct Prediction (จำนวนข้อที่ตอบถูก)' : correct,\n",
        "      'Wrong Prediction (จำนวนข้อที่ตอบผิด)' : len(wrong_ans),\n",
        "      'ข้อที่ตอบผิด' : \" , \".join(wrong_ans),\n",
        "  }\n",
        "\n",
        "  return stats\n"
      ]
    },
    {
      "cell_type": "code",
      "execution_count": 8,
      "metadata": {
        "id": "xk1Ou7h1UqJq"
      },
      "outputs": [],
      "source": [
        "# setup the category column to text\n",
        "\n",
        "def setup(data_df: pd.DataFrame)->pd.DataFrame:\n",
        "  label_col = convert(list(data_df['category']))\n",
        "  data_df['category'] = label_col\n",
        "  return data_df"
      ]
    },
    {
      "cell_type": "code",
      "execution_count": 9,
      "metadata": {
        "id": "R8a3uOpQXKL7"
      },
      "outputs": [],
      "source": [
        "sentiment_data = setup(data_df)"
      ]
    },
    {
      "cell_type": "markdown",
      "metadata": {
        "id": "p4i5YCiErrkE"
      },
      "source": [
        "# `[Task 1]` Data Visualization - Take a look with the Data\n",
        "`Note`: Click the interactive table for visualization"
      ]
    },
    {
      "cell_type": "code",
      "execution_count": null,
      "metadata": {
        "id": "qFNxqXI7sNt0"
      },
      "outputs": [],
      "source": [
        "sentiment_data"
      ]
    },
    {
      "cell_type": "markdown",
      "metadata": {
        "id": "NVHFuH7WRPUs"
      },
      "source": [
        "### 1.1) Count an amount of each class in the `category` column in `sentiment_data` dataframe\n",
        "\n",
        "`Task`: Write a prompt to write a python code to count an amount of each class in the `category` column in `sentiment_data` dataframe"
      ]
    },
    {
      "cell_type": "code",
      "execution_count": null,
      "metadata": {
        "id": "ea2NBWBJR5DE"
      },
      "outputs": [],
      "source": [
        "# write your code here\n",
        "# --------------------------\n",
        "\n",
        "\n",
        "\n",
        "# ---------------------------"
      ]
    },
    {
      "cell_type": "markdown",
      "metadata": {
        "id": "vRCLCtbWsxg6"
      },
      "source": [
        "# `[Task 2]` Make a Prediction"
      ]
    },
    {
      "cell_type": "code",
      "execution_count": 35,
      "metadata": {
        "id": "FxEnPcv2J7Z4"
      },
      "outputs": [],
      "source": [
        "test_text = 'สาขานี้พนักงานน่ารักให้บริการดี'"
      ]
    },
    {
      "cell_type": "markdown",
      "metadata": {
        "id": "73BVoh4fKkGf"
      },
      "source": [
        "### 2.1) Pick the Most matched Sentiment Analysis Model from `AI For Thai`\n",
        "- Note that it is one of the model from `EmoNews`, `Ssense`, and `ThaiMoji` as provided by AI For Thai\n",
        "- the model must capable to predict all classes from Task 1"
      ]
    },
    {
      "cell_type": "code",
      "execution_count": 36,
      "metadata": {
        "id": "S9y7WycFm-96"
      },
      "outputs": [],
      "source": [
        "# Your code here\n",
        "# paste it in the line below\n",
        "# ---------------------------------------------\n",
        "\n",
        "\n",
        "\n",
        "# ---------------------------------------------"
      ]
    },
    {
      "cell_type": "code",
      "execution_count": null,
      "metadata": {
        "id": "DkUF7TbaXRE6"
      },
      "outputs": [],
      "source": [
        "# if you pick the correct model, you will get a sentiment when running this code\n",
        "print('sentiment:',response.json()['sentiment']['polarity'])"
      ]
    },
    {
      "cell_type": "markdown",
      "metadata": {
        "id": "bD5eWaeNC3W6"
      },
      "source": [
        "2.2) After we can made a prediction, then, copy what you got from 2.1) and paste into `get_response` function. Note that you need to format it into the python function by indentation.\n",
        "\n",
        "`Task`:\n",
        "try to make the `get_response` function can be executed. An instruction can be asked by using your Prompt Engineering skill\n",
        "\n",
        "`Note`: beware that we must use the text to be an input text, not directly from API. Just only copy and paste will not help"
      ]
    },
    {
      "cell_type": "code",
      "execution_count": 8,
      "metadata": {
        "id": "iue1MzQDf4rh"
      },
      "outputs": [],
      "source": [
        "def get_response(text:str):\n",
        "  # ---------------------------------------------\n",
        "  # put after this blog\n",
        "  # bring your code to call a sentiment analysis model here !\n",
        "  # ---------------------------------------------\n",
        "\n",
        "\n",
        "\n",
        "\n",
        "  # ---------------------------------------------\n",
        "\n",
        "  return response"
      ]
    },
    {
      "cell_type": "code",
      "execution_count": 19,
      "metadata": {
        "id": "TqwP0LNSX01C"
      },
      "outputs": [],
      "source": [
        "def predict(idx: int):\n",
        "  response = get_response(dataset['train'][idx]['texts'])\n",
        "\n",
        "  format = response.json()['sentiment']['polarity']\n",
        "  if format == 'positive':\n",
        "    prediction = 0\n",
        "  elif format == '':\n",
        "    prediction = 1\n",
        "  else:\n",
        "    prediction = 2\n",
        "  return prediction\n"
      ]
    },
    {
      "cell_type": "markdown",
      "metadata": {
        "id": "uf4ECduesfEN"
      },
      "source": [
        "### 2.2) Make a Predictions on Sentiment Analysis Dataset\n",
        "- this code will make a prediction with your selected model"
      ]
    },
    {
      "cell_type": "code",
      "execution_count": null,
      "metadata": {
        "id": "XEygXJhAcNUD"
      },
      "outputs": [],
      "source": [
        "preds = [] # testing on 200 questions is a good grief\n",
        "for i in tqdm(range(len(dataset['train']))):\n",
        "  try:\n",
        "    preds.append(predict(i))\n",
        "  except:\n",
        "      print('wait for recall again')\n",
        "      time.sleep(3)\n",
        "      preds.append(predict(i))\n",
        "\n",
        "# check your prediction\n",
        "print(\"Your Prediction:\", convert(preds))"
      ]
    },
    {
      "cell_type": "markdown",
      "metadata": {
        "id": "PL47ckqAsjFM"
      },
      "source": [
        "Make an Evaluation with your Model prediction"
      ]
    },
    {
      "cell_type": "code",
      "execution_count": null,
      "metadata": {
        "id": "2SOC0ZWeay4B"
      },
      "outputs": [],
      "source": [
        "evaluate(preds)"
      ]
    },
    {
      "cell_type": "markdown",
      "metadata": {
        "id": "gGftdIWnOY52"
      },
      "source": [
        "Submit your first prediction to the leaderboard !"
      ]
    },
    {
      "cell_type": "code",
      "execution_count": null,
      "metadata": {
        "id": "W_fN7t3aZa3n"
      },
      "outputs": [],
      "source": [
        "submission = pd.DataFrame({\n",
        "    'id_code': [i for i in range(200)],\n",
        "    'category': preds,\n",
        "})\n",
        "submission.to_csv('submission.csv', index=False)"
      ]
    },
    {
      "cell_type": "code",
      "execution_count": null,
      "metadata": {
        "id": "Hi6ko190OYX1"
      },
      "outputs": [],
      "source": [
        "!kaggle competitions submit -c <competition name> -f submission.csv -m \"first submission\""
      ]
    },
    {
      "cell_type": "markdown",
      "metadata": {
        "id": "f3aZ_N5xKuvt"
      },
      "source": [
        "# `[Task 3]` Your Turn\n",
        " Congratulations !, your first model achieve 46% accuracy. Try to improve it to a better version by visualize the charateristics of the data in the dataset as shown in Task 1, after get a point, make a submission and see your placement on the leaderboard !"
      ]
    },
    {
      "cell_type": "markdown",
      "metadata": {
        "id": "JLTpyF1LPYbC"
      },
      "source": [
        "## Setup for Task 3"
      ]
    },
    {
      "cell_type": "code",
      "execution_count": null,
      "metadata": {
        "id": "FISDB7Mwhs3d"
      },
      "outputs": [],
      "source": [
        "# setup\n",
        "api_prediction = preds\n",
        "print(len(api_prediction))\n",
        "print(convert(api_prediction))"
      ]
    },
    {
      "cell_type": "code",
      "execution_count": 31,
      "metadata": {
        "id": "jhXJPuxOQPmJ"
      },
      "outputs": [],
      "source": [
        "# let's visualize it and fill in the list, since the dataset is obvious\n",
        "\n",
        "def prediction_with_stopwords(\n",
        "    pos_words: List[str],\n",
        "    neg_words: List[str],\n",
        "    challenge_mode=False,\n",
        "    ):\n",
        "\n",
        "  if challenge_mode:\n",
        "    if (len(pos_words) > 5) or (len(neg_words) > 5):\n",
        "      raise ValueError(f\"the word in both Positive/Negative list must less than or equal to 5 words !\")\n",
        "\n",
        "  new_prediction = []\n",
        "  for idx, data in enumerate(dataset['train']):\n",
        "    hasKeyword = False\n",
        "\n",
        "    # positive is class 0\n",
        "    for word in pos_words:\n",
        "      if word in data['texts']:\n",
        "        hasKeyword = True\n",
        "        new_prediction.append(0)\n",
        "        break\n",
        "\n",
        "    if hasKeyword==False: # if it already have positive term, let it be positive\n",
        "      # negative is class 2\n",
        "      for word in neg_words:\n",
        "        if word in data['texts']:\n",
        "          hasKeyword = True\n",
        "          new_prediction.append(2)\n",
        "          break\n",
        "\n",
        "    # in case that there has no keyword occurred, prediction will still use API prediction\n",
        "    if hasKeyword == False:\n",
        "      new_prediction.append(api_prediction[idx])\n",
        "\n",
        "  return new_prediction\n"
      ]
    },
    {
      "cell_type": "markdown",
      "metadata": {
        "id": "4Gik69SeHiwK"
      },
      "source": [
        "## 3.1) Define word you've got based on your Visualization on Task 1,\n",
        "\n",
        "`Task`: add more Positive and Negative word into list. In this task, the sentence that has positive word will be predicted as Positive, and the word that has Negative word will be predicted as Negative as well. Otherwise, it will be leave the same as previos prediction"
      ]
    },
    {
      "cell_type": "code",
      "execution_count": 32,
      "metadata": {
        "id": "4qDhys_xHhZV"
      },
      "outputs": [],
      "source": [
        "# example : ['ก', 'ข', 'ค']\n",
        "\n",
        "# --------- put your visualization here ---------------\n",
        "\n",
        "positive_words = ['ดี', '...']\n",
        "negative_words = ['ไม่ดี', '...']\n",
        "\n",
        "# ------------------------------------------------------\n",
        "\n",
        "\n",
        "# made a prediction\n",
        "new_prediction = prediction_with_stopwords(positive_words, negative_words)"
      ]
    },
    {
      "cell_type": "code",
      "execution_count": null,
      "metadata": {
        "id": "IWN76yxArchB"
      },
      "outputs": [],
      "source": [
        "evaluate(new_prediction)"
      ]
    },
    {
      "cell_type": "markdown",
      "metadata": {
        "id": "yPMZkZzWeFXG"
      },
      "source": [
        "# Send your prediction to Kaggle"
      ]
    },
    {
      "cell_type": "code",
      "execution_count": null,
      "metadata": {
        "id": "xaqaGN-EZsOz"
      },
      "outputs": [],
      "source": [
        "submission = pd.DataFrame({\n",
        "    'id_code': [i for i in range(200)],\n",
        "    'category': new_prediction,\n",
        "})\n",
        "submission.to_csv('submission.csv', index=False)"
      ]
    },
    {
      "cell_type": "code",
      "execution_count": null,
      "metadata": {
        "id": "PUZ1xiq_azpW"
      },
      "outputs": [],
      "source": [
        "!kaggle competitions submit -c <competition name> -f submission.csv -m \"make submission\""
      ]
    }
  ],
  "metadata": {
    "colab": {
      "provenance": []
    },
    "kernelspec": {
      "display_name": "Python 3",
      "name": "python3"
    },
    "language_info": {
      "name": "python"
    },
    "widgets": {
      "application/vnd.jupyter.widget-state+json": {
        "06d1b40aa7c24ebeafe522fb95d0e5b6": {
          "model_module": "@jupyter-widgets/base",
          "model_module_version": "1.2.0",
          "model_name": "LayoutModel",
          "state": {
            "_model_module": "@jupyter-widgets/base",
            "_model_module_version": "1.2.0",
            "_model_name": "LayoutModel",
            "_view_count": null,
            "_view_module": "@jupyter-widgets/base",
            "_view_module_version": "1.2.0",
            "_view_name": "LayoutView",
            "align_content": null,
            "align_items": null,
            "align_self": null,
            "border": null,
            "bottom": null,
            "display": null,
            "flex": null,
            "flex_flow": null,
            "grid_area": null,
            "grid_auto_columns": null,
            "grid_auto_flow": null,
            "grid_auto_rows": null,
            "grid_column": null,
            "grid_gap": null,
            "grid_row": null,
            "grid_template_areas": null,
            "grid_template_columns": null,
            "grid_template_rows": null,
            "height": null,
            "justify_content": null,
            "justify_items": null,
            "left": null,
            "margin": null,
            "max_height": null,
            "max_width": null,
            "min_height": null,
            "min_width": null,
            "object_fit": null,
            "object_position": null,
            "order": null,
            "overflow": null,
            "overflow_x": null,
            "overflow_y": null,
            "padding": null,
            "right": null,
            "top": null,
            "visibility": null,
            "width": null
          }
        },
        "0700d422a71a44f4916709f6ca3b8022": {
          "model_module": "@jupyter-widgets/controls",
          "model_module_version": "1.5.0",
          "model_name": "HBoxModel",
          "state": {
            "_dom_classes": [],
            "_model_module": "@jupyter-widgets/controls",
            "_model_module_version": "1.5.0",
            "_model_name": "HBoxModel",
            "_view_count": null,
            "_view_module": "@jupyter-widgets/controls",
            "_view_module_version": "1.5.0",
            "_view_name": "HBoxView",
            "box_style": "",
            "children": [
              "IPY_MODEL_487cd3cf2fff4fdf8e18665b9a91030f",
              "IPY_MODEL_1c5482eb9a424e6697b4d1d89c187d11",
              "IPY_MODEL_c5dc8e22742c48208d8371ae8886497d"
            ],
            "layout": "IPY_MODEL_5765f23884ed4091bb92a1d89c294386"
          }
        },
        "1c5482eb9a424e6697b4d1d89c187d11": {
          "model_module": "@jupyter-widgets/controls",
          "model_module_version": "1.5.0",
          "model_name": "FloatProgressModel",
          "state": {
            "_dom_classes": [],
            "_model_module": "@jupyter-widgets/controls",
            "_model_module_version": "1.5.0",
            "_model_name": "FloatProgressModel",
            "_view_count": null,
            "_view_module": "@jupyter-widgets/controls",
            "_view_module_version": "1.5.0",
            "_view_name": "ProgressView",
            "bar_style": "success",
            "description": "",
            "description_tooltip": null,
            "layout": "IPY_MODEL_bb1aa5ec668b4279816870b675c46f12",
            "max": 1,
            "min": 0,
            "orientation": "horizontal",
            "style": "IPY_MODEL_98a60ea0b61b49e7a2884af13140e224",
            "value": 1
          }
        },
        "1ea5872a0bde433093170d956ea677a7": {
          "model_module": "@jupyter-widgets/base",
          "model_module_version": "1.2.0",
          "model_name": "LayoutModel",
          "state": {
            "_model_module": "@jupyter-widgets/base",
            "_model_module_version": "1.2.0",
            "_model_name": "LayoutModel",
            "_view_count": null,
            "_view_module": "@jupyter-widgets/base",
            "_view_module_version": "1.2.0",
            "_view_name": "LayoutView",
            "align_content": null,
            "align_items": null,
            "align_self": null,
            "border": null,
            "bottom": null,
            "display": null,
            "flex": null,
            "flex_flow": null,
            "grid_area": null,
            "grid_auto_columns": null,
            "grid_auto_flow": null,
            "grid_auto_rows": null,
            "grid_column": null,
            "grid_gap": null,
            "grid_row": null,
            "grid_template_areas": null,
            "grid_template_columns": null,
            "grid_template_rows": null,
            "height": null,
            "justify_content": null,
            "justify_items": null,
            "left": null,
            "margin": null,
            "max_height": null,
            "max_width": null,
            "min_height": null,
            "min_width": null,
            "object_fit": null,
            "object_position": null,
            "order": null,
            "overflow": null,
            "overflow_x": null,
            "overflow_y": null,
            "padding": null,
            "right": null,
            "top": null,
            "visibility": null,
            "width": null
          }
        },
        "21ad34b665a14c1f8bae5d31afc732b6": {
          "model_module": "@jupyter-widgets/controls",
          "model_module_version": "1.5.0",
          "model_name": "HTMLModel",
          "state": {
            "_dom_classes": [],
            "_model_module": "@jupyter-widgets/controls",
            "_model_module_version": "1.5.0",
            "_model_name": "HTMLModel",
            "_view_count": null,
            "_view_module": "@jupyter-widgets/controls",
            "_view_module_version": "1.5.0",
            "_view_name": "HTMLView",
            "description": "",
            "description_tooltip": null,
            "layout": "IPY_MODEL_7367f75ddb744e74ab781d2f72529266",
            "placeholder": "​",
            "style": "IPY_MODEL_2bf402535a5f46b6ba93d97bb043e293",
            "value": "Downloading data files: 100%"
          }
        },
        "286f7a88be854b8fb16be3d70e039a8d": {
          "model_module": "@jupyter-widgets/base",
          "model_module_version": "1.2.0",
          "model_name": "LayoutModel",
          "state": {
            "_model_module": "@jupyter-widgets/base",
            "_model_module_version": "1.2.0",
            "_model_name": "LayoutModel",
            "_view_count": null,
            "_view_module": "@jupyter-widgets/base",
            "_view_module_version": "1.2.0",
            "_view_name": "LayoutView",
            "align_content": null,
            "align_items": null,
            "align_self": null,
            "border": null,
            "bottom": null,
            "display": null,
            "flex": null,
            "flex_flow": null,
            "grid_area": null,
            "grid_auto_columns": null,
            "grid_auto_flow": null,
            "grid_auto_rows": null,
            "grid_column": null,
            "grid_gap": null,
            "grid_row": null,
            "grid_template_areas": null,
            "grid_template_columns": null,
            "grid_template_rows": null,
            "height": null,
            "justify_content": null,
            "justify_items": null,
            "left": null,
            "margin": null,
            "max_height": null,
            "max_width": null,
            "min_height": null,
            "min_width": null,
            "object_fit": null,
            "object_position": null,
            "order": null,
            "overflow": null,
            "overflow_x": null,
            "overflow_y": null,
            "padding": null,
            "right": null,
            "top": null,
            "visibility": null,
            "width": null
          }
        },
        "2bf402535a5f46b6ba93d97bb043e293": {
          "model_module": "@jupyter-widgets/controls",
          "model_module_version": "1.5.0",
          "model_name": "DescriptionStyleModel",
          "state": {
            "_model_module": "@jupyter-widgets/controls",
            "_model_module_version": "1.5.0",
            "_model_name": "DescriptionStyleModel",
            "_view_count": null,
            "_view_module": "@jupyter-widgets/base",
            "_view_module_version": "1.2.0",
            "_view_name": "StyleView",
            "description_width": ""
          }
        },
        "33fd9fd392584285b7512b745e9ec63d": {
          "model_module": "@jupyter-widgets/base",
          "model_module_version": "1.2.0",
          "model_name": "LayoutModel",
          "state": {
            "_model_module": "@jupyter-widgets/base",
            "_model_module_version": "1.2.0",
            "_model_name": "LayoutModel",
            "_view_count": null,
            "_view_module": "@jupyter-widgets/base",
            "_view_module_version": "1.2.0",
            "_view_name": "LayoutView",
            "align_content": null,
            "align_items": null,
            "align_self": null,
            "border": null,
            "bottom": null,
            "display": null,
            "flex": null,
            "flex_flow": null,
            "grid_area": null,
            "grid_auto_columns": null,
            "grid_auto_flow": null,
            "grid_auto_rows": null,
            "grid_column": null,
            "grid_gap": null,
            "grid_row": null,
            "grid_template_areas": null,
            "grid_template_columns": null,
            "grid_template_rows": null,
            "height": null,
            "justify_content": null,
            "justify_items": null,
            "left": null,
            "margin": null,
            "max_height": null,
            "max_width": null,
            "min_height": null,
            "min_width": null,
            "object_fit": null,
            "object_position": null,
            "order": null,
            "overflow": null,
            "overflow_x": null,
            "overflow_y": null,
            "padding": null,
            "right": null,
            "top": null,
            "visibility": null,
            "width": null
          }
        },
        "441492a0b3b44c34b73f71ea4e276759": {
          "model_module": "@jupyter-widgets/controls",
          "model_module_version": "1.5.0",
          "model_name": "HTMLModel",
          "state": {
            "_dom_classes": [],
            "_model_module": "@jupyter-widgets/controls",
            "_model_module_version": "1.5.0",
            "_model_name": "HTMLModel",
            "_view_count": null,
            "_view_module": "@jupyter-widgets/controls",
            "_view_module_version": "1.5.0",
            "_view_name": "HTMLView",
            "description": "",
            "description_tooltip": null,
            "layout": "IPY_MODEL_59cdb3f551444abe8513b36834692738",
            "placeholder": "​",
            "style": "IPY_MODEL_b8ff2283d49e4ea3b90fac952f61aee1",
            "value": " 1/1 [00:00&lt;00:00, 47.01it/s]"
          }
        },
        "487cd3cf2fff4fdf8e18665b9a91030f": {
          "model_module": "@jupyter-widgets/controls",
          "model_module_version": "1.5.0",
          "model_name": "HTMLModel",
          "state": {
            "_dom_classes": [],
            "_model_module": "@jupyter-widgets/controls",
            "_model_module_version": "1.5.0",
            "_model_name": "HTMLModel",
            "_view_count": null,
            "_view_module": "@jupyter-widgets/controls",
            "_view_module_version": "1.5.0",
            "_view_name": "HTMLView",
            "description": "",
            "description_tooltip": null,
            "layout": "IPY_MODEL_06d1b40aa7c24ebeafe522fb95d0e5b6",
            "placeholder": "​",
            "style": "IPY_MODEL_87ceff71c9974c1e953f4c7cc6fb1bb1",
            "value": "Generating train split: "
          }
        },
        "503bfe64af8f4c49a9869d0ff564c3f2": {
          "model_module": "@jupyter-widgets/controls",
          "model_module_version": "1.5.0",
          "model_name": "FloatProgressModel",
          "state": {
            "_dom_classes": [],
            "_model_module": "@jupyter-widgets/controls",
            "_model_module_version": "1.5.0",
            "_model_name": "FloatProgressModel",
            "_view_count": null,
            "_view_module": "@jupyter-widgets/controls",
            "_view_module_version": "1.5.0",
            "_view_name": "ProgressView",
            "bar_style": "success",
            "description": "",
            "description_tooltip": null,
            "layout": "IPY_MODEL_1ea5872a0bde433093170d956ea677a7",
            "max": 1,
            "min": 0,
            "orientation": "horizontal",
            "style": "IPY_MODEL_e4d72016e2be418989a4a32b78acd753",
            "value": 1
          }
        },
        "5765f23884ed4091bb92a1d89c294386": {
          "model_module": "@jupyter-widgets/base",
          "model_module_version": "1.2.0",
          "model_name": "LayoutModel",
          "state": {
            "_model_module": "@jupyter-widgets/base",
            "_model_module_version": "1.2.0",
            "_model_name": "LayoutModel",
            "_view_count": null,
            "_view_module": "@jupyter-widgets/base",
            "_view_module_version": "1.2.0",
            "_view_name": "LayoutView",
            "align_content": null,
            "align_items": null,
            "align_self": null,
            "border": null,
            "bottom": null,
            "display": null,
            "flex": null,
            "flex_flow": null,
            "grid_area": null,
            "grid_auto_columns": null,
            "grid_auto_flow": null,
            "grid_auto_rows": null,
            "grid_column": null,
            "grid_gap": null,
            "grid_row": null,
            "grid_template_areas": null,
            "grid_template_columns": null,
            "grid_template_rows": null,
            "height": null,
            "justify_content": null,
            "justify_items": null,
            "left": null,
            "margin": null,
            "max_height": null,
            "max_width": null,
            "min_height": null,
            "min_width": null,
            "object_fit": null,
            "object_position": null,
            "order": null,
            "overflow": null,
            "overflow_x": null,
            "overflow_y": null,
            "padding": null,
            "right": null,
            "top": null,
            "visibility": null,
            "width": null
          }
        },
        "59cdb3f551444abe8513b36834692738": {
          "model_module": "@jupyter-widgets/base",
          "model_module_version": "1.2.0",
          "model_name": "LayoutModel",
          "state": {
            "_model_module": "@jupyter-widgets/base",
            "_model_module_version": "1.2.0",
            "_model_name": "LayoutModel",
            "_view_count": null,
            "_view_module": "@jupyter-widgets/base",
            "_view_module_version": "1.2.0",
            "_view_name": "LayoutView",
            "align_content": null,
            "align_items": null,
            "align_self": null,
            "border": null,
            "bottom": null,
            "display": null,
            "flex": null,
            "flex_flow": null,
            "grid_area": null,
            "grid_auto_columns": null,
            "grid_auto_flow": null,
            "grid_auto_rows": null,
            "grid_column": null,
            "grid_gap": null,
            "grid_row": null,
            "grid_template_areas": null,
            "grid_template_columns": null,
            "grid_template_rows": null,
            "height": null,
            "justify_content": null,
            "justify_items": null,
            "left": null,
            "margin": null,
            "max_height": null,
            "max_width": null,
            "min_height": null,
            "min_width": null,
            "object_fit": null,
            "object_position": null,
            "order": null,
            "overflow": null,
            "overflow_x": null,
            "overflow_y": null,
            "padding": null,
            "right": null,
            "top": null,
            "visibility": null,
            "width": null
          }
        },
        "627b790094e1497ca5235db6539b7f16": {
          "model_module": "@jupyter-widgets/controls",
          "model_module_version": "1.5.0",
          "model_name": "HTMLModel",
          "state": {
            "_dom_classes": [],
            "_model_module": "@jupyter-widgets/controls",
            "_model_module_version": "1.5.0",
            "_model_name": "HTMLModel",
            "_view_count": null,
            "_view_module": "@jupyter-widgets/controls",
            "_view_module_version": "1.5.0",
            "_view_name": "HTMLView",
            "description": "",
            "description_tooltip": null,
            "layout": "IPY_MODEL_6eadc9ca673c41b0a465207ed3038e30",
            "placeholder": "​",
            "style": "IPY_MODEL_b4c3b3d63c8c47ac98a1eee400df9094",
            "value": " 1/1 [00:00&lt;00:00, 33.52it/s]"
          }
        },
        "6eadc9ca673c41b0a465207ed3038e30": {
          "model_module": "@jupyter-widgets/base",
          "model_module_version": "1.2.0",
          "model_name": "LayoutModel",
          "state": {
            "_model_module": "@jupyter-widgets/base",
            "_model_module_version": "1.2.0",
            "_model_name": "LayoutModel",
            "_view_count": null,
            "_view_module": "@jupyter-widgets/base",
            "_view_module_version": "1.2.0",
            "_view_name": "LayoutView",
            "align_content": null,
            "align_items": null,
            "align_self": null,
            "border": null,
            "bottom": null,
            "display": null,
            "flex": null,
            "flex_flow": null,
            "grid_area": null,
            "grid_auto_columns": null,
            "grid_auto_flow": null,
            "grid_auto_rows": null,
            "grid_column": null,
            "grid_gap": null,
            "grid_row": null,
            "grid_template_areas": null,
            "grid_template_columns": null,
            "grid_template_rows": null,
            "height": null,
            "justify_content": null,
            "justify_items": null,
            "left": null,
            "margin": null,
            "max_height": null,
            "max_width": null,
            "min_height": null,
            "min_width": null,
            "object_fit": null,
            "object_position": null,
            "order": null,
            "overflow": null,
            "overflow_x": null,
            "overflow_y": null,
            "padding": null,
            "right": null,
            "top": null,
            "visibility": null,
            "width": null
          }
        },
        "7367f75ddb744e74ab781d2f72529266": {
          "model_module": "@jupyter-widgets/base",
          "model_module_version": "1.2.0",
          "model_name": "LayoutModel",
          "state": {
            "_model_module": "@jupyter-widgets/base",
            "_model_module_version": "1.2.0",
            "_model_name": "LayoutModel",
            "_view_count": null,
            "_view_module": "@jupyter-widgets/base",
            "_view_module_version": "1.2.0",
            "_view_name": "LayoutView",
            "align_content": null,
            "align_items": null,
            "align_self": null,
            "border": null,
            "bottom": null,
            "display": null,
            "flex": null,
            "flex_flow": null,
            "grid_area": null,
            "grid_auto_columns": null,
            "grid_auto_flow": null,
            "grid_auto_rows": null,
            "grid_column": null,
            "grid_gap": null,
            "grid_row": null,
            "grid_template_areas": null,
            "grid_template_columns": null,
            "grid_template_rows": null,
            "height": null,
            "justify_content": null,
            "justify_items": null,
            "left": null,
            "margin": null,
            "max_height": null,
            "max_width": null,
            "min_height": null,
            "min_width": null,
            "object_fit": null,
            "object_position": null,
            "order": null,
            "overflow": null,
            "overflow_x": null,
            "overflow_y": null,
            "padding": null,
            "right": null,
            "top": null,
            "visibility": null,
            "width": null
          }
        },
        "7687c318652949cbb40d63a269ec52e1": {
          "model_module": "@jupyter-widgets/base",
          "model_module_version": "1.2.0",
          "model_name": "LayoutModel",
          "state": {
            "_model_module": "@jupyter-widgets/base",
            "_model_module_version": "1.2.0",
            "_model_name": "LayoutModel",
            "_view_count": null,
            "_view_module": "@jupyter-widgets/base",
            "_view_module_version": "1.2.0",
            "_view_name": "LayoutView",
            "align_content": null,
            "align_items": null,
            "align_self": null,
            "border": null,
            "bottom": null,
            "display": null,
            "flex": null,
            "flex_flow": null,
            "grid_area": null,
            "grid_auto_columns": null,
            "grid_auto_flow": null,
            "grid_auto_rows": null,
            "grid_column": null,
            "grid_gap": null,
            "grid_row": null,
            "grid_template_areas": null,
            "grid_template_columns": null,
            "grid_template_rows": null,
            "height": null,
            "justify_content": null,
            "justify_items": null,
            "left": null,
            "margin": null,
            "max_height": null,
            "max_width": null,
            "min_height": null,
            "min_width": null,
            "object_fit": null,
            "object_position": null,
            "order": null,
            "overflow": null,
            "overflow_x": null,
            "overflow_y": null,
            "padding": null,
            "right": null,
            "top": null,
            "visibility": null,
            "width": null
          }
        },
        "87ceff71c9974c1e953f4c7cc6fb1bb1": {
          "model_module": "@jupyter-widgets/controls",
          "model_module_version": "1.5.0",
          "model_name": "DescriptionStyleModel",
          "state": {
            "_model_module": "@jupyter-widgets/controls",
            "_model_module_version": "1.5.0",
            "_model_name": "DescriptionStyleModel",
            "_view_count": null,
            "_view_module": "@jupyter-widgets/base",
            "_view_module_version": "1.2.0",
            "_view_name": "StyleView",
            "description_width": ""
          }
        },
        "9622f28e08e54c4fb54ffaf9c428973f": {
          "model_module": "@jupyter-widgets/controls",
          "model_module_version": "1.5.0",
          "model_name": "FloatProgressModel",
          "state": {
            "_dom_classes": [],
            "_model_module": "@jupyter-widgets/controls",
            "_model_module_version": "1.5.0",
            "_model_name": "FloatProgressModel",
            "_view_count": null,
            "_view_module": "@jupyter-widgets/controls",
            "_view_module_version": "1.5.0",
            "_view_name": "ProgressView",
            "bar_style": "success",
            "description": "",
            "description_tooltip": null,
            "layout": "IPY_MODEL_b027323291b449c096d1e5d2edaa0392",
            "max": 1,
            "min": 0,
            "orientation": "horizontal",
            "style": "IPY_MODEL_f2c5a0b0d6544b8fb3633e55113918fd",
            "value": 1
          }
        },
        "98a60ea0b61b49e7a2884af13140e224": {
          "model_module": "@jupyter-widgets/controls",
          "model_module_version": "1.5.0",
          "model_name": "ProgressStyleModel",
          "state": {
            "_model_module": "@jupyter-widgets/controls",
            "_model_module_version": "1.5.0",
            "_model_name": "ProgressStyleModel",
            "_view_count": null,
            "_view_module": "@jupyter-widgets/base",
            "_view_module_version": "1.2.0",
            "_view_name": "StyleView",
            "bar_color": null,
            "description_width": ""
          }
        },
        "9971627c9bbb4086835a4a8ddfb5a718": {
          "model_module": "@jupyter-widgets/controls",
          "model_module_version": "1.5.0",
          "model_name": "DescriptionStyleModel",
          "state": {
            "_model_module": "@jupyter-widgets/controls",
            "_model_module_version": "1.5.0",
            "_model_name": "DescriptionStyleModel",
            "_view_count": null,
            "_view_module": "@jupyter-widgets/base",
            "_view_module_version": "1.2.0",
            "_view_name": "StyleView",
            "description_width": ""
          }
        },
        "b027323291b449c096d1e5d2edaa0392": {
          "model_module": "@jupyter-widgets/base",
          "model_module_version": "1.2.0",
          "model_name": "LayoutModel",
          "state": {
            "_model_module": "@jupyter-widgets/base",
            "_model_module_version": "1.2.0",
            "_model_name": "LayoutModel",
            "_view_count": null,
            "_view_module": "@jupyter-widgets/base",
            "_view_module_version": "1.2.0",
            "_view_name": "LayoutView",
            "align_content": null,
            "align_items": null,
            "align_self": null,
            "border": null,
            "bottom": null,
            "display": null,
            "flex": null,
            "flex_flow": null,
            "grid_area": null,
            "grid_auto_columns": null,
            "grid_auto_flow": null,
            "grid_auto_rows": null,
            "grid_column": null,
            "grid_gap": null,
            "grid_row": null,
            "grid_template_areas": null,
            "grid_template_columns": null,
            "grid_template_rows": null,
            "height": null,
            "justify_content": null,
            "justify_items": null,
            "left": null,
            "margin": null,
            "max_height": null,
            "max_width": null,
            "min_height": null,
            "min_width": null,
            "object_fit": null,
            "object_position": null,
            "order": null,
            "overflow": null,
            "overflow_x": null,
            "overflow_y": null,
            "padding": null,
            "right": null,
            "top": null,
            "visibility": null,
            "width": null
          }
        },
        "b4c3b3d63c8c47ac98a1eee400df9094": {
          "model_module": "@jupyter-widgets/controls",
          "model_module_version": "1.5.0",
          "model_name": "DescriptionStyleModel",
          "state": {
            "_model_module": "@jupyter-widgets/controls",
            "_model_module_version": "1.5.0",
            "_model_name": "DescriptionStyleModel",
            "_view_count": null,
            "_view_module": "@jupyter-widgets/base",
            "_view_module_version": "1.2.0",
            "_view_name": "StyleView",
            "description_width": ""
          }
        },
        "b8ff2283d49e4ea3b90fac952f61aee1": {
          "model_module": "@jupyter-widgets/controls",
          "model_module_version": "1.5.0",
          "model_name": "DescriptionStyleModel",
          "state": {
            "_model_module": "@jupyter-widgets/controls",
            "_model_module_version": "1.5.0",
            "_model_name": "DescriptionStyleModel",
            "_view_count": null,
            "_view_module": "@jupyter-widgets/base",
            "_view_module_version": "1.2.0",
            "_view_name": "StyleView",
            "description_width": ""
          }
        },
        "bb1aa5ec668b4279816870b675c46f12": {
          "model_module": "@jupyter-widgets/base",
          "model_module_version": "1.2.0",
          "model_name": "LayoutModel",
          "state": {
            "_model_module": "@jupyter-widgets/base",
            "_model_module_version": "1.2.0",
            "_model_name": "LayoutModel",
            "_view_count": null,
            "_view_module": "@jupyter-widgets/base",
            "_view_module_version": "1.2.0",
            "_view_name": "LayoutView",
            "align_content": null,
            "align_items": null,
            "align_self": null,
            "border": null,
            "bottom": null,
            "display": null,
            "flex": null,
            "flex_flow": null,
            "grid_area": null,
            "grid_auto_columns": null,
            "grid_auto_flow": null,
            "grid_auto_rows": null,
            "grid_column": null,
            "grid_gap": null,
            "grid_row": null,
            "grid_template_areas": null,
            "grid_template_columns": null,
            "grid_template_rows": null,
            "height": null,
            "justify_content": null,
            "justify_items": null,
            "left": null,
            "margin": null,
            "max_height": null,
            "max_width": null,
            "min_height": null,
            "min_width": null,
            "object_fit": null,
            "object_position": null,
            "order": null,
            "overflow": null,
            "overflow_x": null,
            "overflow_y": null,
            "padding": null,
            "right": null,
            "top": null,
            "visibility": null,
            "width": "20px"
          }
        },
        "c06e7e17347740a681e3675515393d68": {
          "model_module": "@jupyter-widgets/controls",
          "model_module_version": "1.5.0",
          "model_name": "DescriptionStyleModel",
          "state": {
            "_model_module": "@jupyter-widgets/controls",
            "_model_module_version": "1.5.0",
            "_model_name": "DescriptionStyleModel",
            "_view_count": null,
            "_view_module": "@jupyter-widgets/base",
            "_view_module_version": "1.2.0",
            "_view_name": "StyleView",
            "description_width": ""
          }
        },
        "c5dc8e22742c48208d8371ae8886497d": {
          "model_module": "@jupyter-widgets/controls",
          "model_module_version": "1.5.0",
          "model_name": "HTMLModel",
          "state": {
            "_dom_classes": [],
            "_model_module": "@jupyter-widgets/controls",
            "_model_module_version": "1.5.0",
            "_model_name": "HTMLModel",
            "_view_count": null,
            "_view_module": "@jupyter-widgets/controls",
            "_view_module_version": "1.5.0",
            "_view_name": "HTMLView",
            "description": "",
            "description_tooltip": null,
            "layout": "IPY_MODEL_d4af814c609a4bb3ae2d32738e10e165",
            "placeholder": "​",
            "style": "IPY_MODEL_9971627c9bbb4086835a4a8ddfb5a718",
            "value": " 30/0 [00:00&lt;00:00, 564.66 examples/s]"
          }
        },
        "cdd722d8074f41d59ce28893bc971769": {
          "model_module": "@jupyter-widgets/controls",
          "model_module_version": "1.5.0",
          "model_name": "HTMLModel",
          "state": {
            "_dom_classes": [],
            "_model_module": "@jupyter-widgets/controls",
            "_model_module_version": "1.5.0",
            "_model_name": "HTMLModel",
            "_view_count": null,
            "_view_module": "@jupyter-widgets/controls",
            "_view_module_version": "1.5.0",
            "_view_name": "HTMLView",
            "description": "",
            "description_tooltip": null,
            "layout": "IPY_MODEL_286f7a88be854b8fb16be3d70e039a8d",
            "placeholder": "​",
            "style": "IPY_MODEL_c06e7e17347740a681e3675515393d68",
            "value": "Extracting data files: 100%"
          }
        },
        "d4af814c609a4bb3ae2d32738e10e165": {
          "model_module": "@jupyter-widgets/base",
          "model_module_version": "1.2.0",
          "model_name": "LayoutModel",
          "state": {
            "_model_module": "@jupyter-widgets/base",
            "_model_module_version": "1.2.0",
            "_model_name": "LayoutModel",
            "_view_count": null,
            "_view_module": "@jupyter-widgets/base",
            "_view_module_version": "1.2.0",
            "_view_name": "LayoutView",
            "align_content": null,
            "align_items": null,
            "align_self": null,
            "border": null,
            "bottom": null,
            "display": null,
            "flex": null,
            "flex_flow": null,
            "grid_area": null,
            "grid_auto_columns": null,
            "grid_auto_flow": null,
            "grid_auto_rows": null,
            "grid_column": null,
            "grid_gap": null,
            "grid_row": null,
            "grid_template_areas": null,
            "grid_template_columns": null,
            "grid_template_rows": null,
            "height": null,
            "justify_content": null,
            "justify_items": null,
            "left": null,
            "margin": null,
            "max_height": null,
            "max_width": null,
            "min_height": null,
            "min_width": null,
            "object_fit": null,
            "object_position": null,
            "order": null,
            "overflow": null,
            "overflow_x": null,
            "overflow_y": null,
            "padding": null,
            "right": null,
            "top": null,
            "visibility": null,
            "width": null
          }
        },
        "df7d43922c3341d083a31c68a65dd459": {
          "model_module": "@jupyter-widgets/controls",
          "model_module_version": "1.5.0",
          "model_name": "HBoxModel",
          "state": {
            "_dom_classes": [],
            "_model_module": "@jupyter-widgets/controls",
            "_model_module_version": "1.5.0",
            "_model_name": "HBoxModel",
            "_view_count": null,
            "_view_module": "@jupyter-widgets/controls",
            "_view_module_version": "1.5.0",
            "_view_name": "HBoxView",
            "box_style": "",
            "children": [
              "IPY_MODEL_21ad34b665a14c1f8bae5d31afc732b6",
              "IPY_MODEL_9622f28e08e54c4fb54ffaf9c428973f",
              "IPY_MODEL_627b790094e1497ca5235db6539b7f16"
            ],
            "layout": "IPY_MODEL_7687c318652949cbb40d63a269ec52e1"
          }
        },
        "e4d72016e2be418989a4a32b78acd753": {
          "model_module": "@jupyter-widgets/controls",
          "model_module_version": "1.5.0",
          "model_name": "ProgressStyleModel",
          "state": {
            "_model_module": "@jupyter-widgets/controls",
            "_model_module_version": "1.5.0",
            "_model_name": "ProgressStyleModel",
            "_view_count": null,
            "_view_module": "@jupyter-widgets/base",
            "_view_module_version": "1.2.0",
            "_view_name": "StyleView",
            "bar_color": null,
            "description_width": ""
          }
        },
        "e74189291d834e88b7cf20c3108970d7": {
          "model_module": "@jupyter-widgets/controls",
          "model_module_version": "1.5.0",
          "model_name": "HBoxModel",
          "state": {
            "_dom_classes": [],
            "_model_module": "@jupyter-widgets/controls",
            "_model_module_version": "1.5.0",
            "_model_name": "HBoxModel",
            "_view_count": null,
            "_view_module": "@jupyter-widgets/controls",
            "_view_module_version": "1.5.0",
            "_view_name": "HBoxView",
            "box_style": "",
            "children": [
              "IPY_MODEL_cdd722d8074f41d59ce28893bc971769",
              "IPY_MODEL_503bfe64af8f4c49a9869d0ff564c3f2",
              "IPY_MODEL_441492a0b3b44c34b73f71ea4e276759"
            ],
            "layout": "IPY_MODEL_33fd9fd392584285b7512b745e9ec63d"
          }
        },
        "f2c5a0b0d6544b8fb3633e55113918fd": {
          "model_module": "@jupyter-widgets/controls",
          "model_module_version": "1.5.0",
          "model_name": "ProgressStyleModel",
          "state": {
            "_model_module": "@jupyter-widgets/controls",
            "_model_module_version": "1.5.0",
            "_model_name": "ProgressStyleModel",
            "_view_count": null,
            "_view_module": "@jupyter-widgets/base",
            "_view_module_version": "1.2.0",
            "_view_name": "StyleView",
            "bar_color": null,
            "description_width": ""
          }
        }
      }
    }
  },
  "nbformat": 4,
  "nbformat_minor": 0
}
