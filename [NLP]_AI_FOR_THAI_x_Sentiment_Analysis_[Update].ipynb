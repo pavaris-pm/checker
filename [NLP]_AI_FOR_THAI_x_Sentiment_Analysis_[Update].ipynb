{
  "nbformat": 4,
  "nbformat_minor": 0,
  "metadata": {
    "colab": {
      "provenance": []
    },
    "kernelspec": {
      "name": "python3",
      "display_name": "Python 3"
    },
    "language_info": {
      "name": "python"
    }
  },
  "cells": [
    {
      "cell_type": "markdown",
      "source": [
        "# Download the Wisesight Sentiment Analysis Dataset"
      ],
      "metadata": {
        "id": "r69yoeduryH8"
      }
    },
    {
      "cell_type": "code",
      "source": [
        "!pip -q install datasets evaluate\n",
        "!git clone https://github.com/pavaris-pm/checker.git"
      ],
      "metadata": {
        "colab": {
          "base_uri": "https://localhost:8080/"
        },
        "id": "qBs3Y7B_VCjE",
        "outputId": "6b73573e-4cac-42c7-d551-fc479f468654"
      },
      "execution_count": 1,
      "outputs": [
        {
          "output_type": "stream",
          "name": "stdout",
          "text": [
            "\u001b[2K     \u001b[90m━━━━━━━━━━━━━━━━━━━━━━━━━━━━━━━━━━━━━━━━\u001b[0m \u001b[32m493.7/493.7 kB\u001b[0m \u001b[31m4.4 MB/s\u001b[0m eta \u001b[36m0:00:00\u001b[0m\n",
            "\u001b[2K     \u001b[90m━━━━━━━━━━━━━━━━━━━━━━━━━━━━━━━━━━━━━━━━\u001b[0m \u001b[32m84.1/84.1 kB\u001b[0m \u001b[31m7.4 MB/s\u001b[0m eta \u001b[36m0:00:00\u001b[0m\n",
            "\u001b[2K     \u001b[90m━━━━━━━━━━━━━━━━━━━━━━━━━━━━━━━━━━━━━━━━\u001b[0m \u001b[32m115.3/115.3 kB\u001b[0m \u001b[31m9.6 MB/s\u001b[0m eta \u001b[36m0:00:00\u001b[0m\n",
            "\u001b[2K     \u001b[90m━━━━━━━━━━━━━━━━━━━━━━━━━━━━━━━━━━━━━━━━\u001b[0m \u001b[32m134.8/134.8 kB\u001b[0m \u001b[31m13.8 MB/s\u001b[0m eta \u001b[36m0:00:00\u001b[0m\n",
            "\u001b[2K     \u001b[90m━━━━━━━━━━━━━━━━━━━━━━━━━━━━━━━━━━━━━━━━\u001b[0m \u001b[32m311.2/311.2 kB\u001b[0m \u001b[31m24.2 MB/s\u001b[0m eta \u001b[36m0:00:00\u001b[0m\n",
            "\u001b[?25hCloning into 'checker'...\n",
            "remote: Enumerating objects: 34, done.\u001b[K\n",
            "remote: Counting objects: 100% (34/34), done.\u001b[K\n",
            "remote: Compressing objects: 100% (31/31), done.\u001b[K\n",
            "remote: Total 34 (delta 10), reused 8 (delta 2), pack-reused 0\u001b[K\n",
            "Receiving objects: 100% (34/34), 35.74 KiB | 2.75 MiB/s, done.\n",
            "Resolving deltas: 100% (10/10), done.\n"
          ]
        }
      ]
    },
    {
      "cell_type": "code",
      "source": [
        "from datasets import load_dataset, load_metric\n",
        "import requests\n",
        "from typing import List, Dict\n",
        "import numpy as np\n",
        "from tqdm.auto import tqdm\n",
        "import pandas as pd\n",
        "import time\n",
        "from json.decoder import JSONDecodeError"
      ],
      "metadata": {
        "id": "QFrzr0RM-8em"
      },
      "execution_count": 29,
      "outputs": []
    },
    {
      "cell_type": "code",
      "source": [
        "data_df = pd.read_csv('/content/checker/sentiment_200.csv')"
      ],
      "metadata": {
        "id": "PCte_WEorpfO"
      },
      "execution_count": 19,
      "outputs": []
    },
    {
      "cell_type": "code",
      "source": [
        "# format it to huggingface dataset\n",
        "dataset = load_dataset('csv', data_files={'train': \"/content/checker/sentiment_200.csv\"})\n",
        "dataset"
      ],
      "metadata": {
        "colab": {
          "base_uri": "https://localhost:8080/"
        },
        "id": "noWUsQ_zXjJC",
        "outputId": "eb43b4f2-3d1b-4080-9501-162c414a7842"
      },
      "execution_count": 20,
      "outputs": [
        {
          "output_type": "execute_result",
          "data": {
            "text/plain": [
              "DatasetDict({\n",
              "    train: Dataset({\n",
              "        features: ['texts', 'category'],\n",
              "        num_rows: 200\n",
              "    })\n",
              "})"
            ]
          },
          "metadata": {},
          "execution_count": 20
        }
      ]
    },
    {
      "cell_type": "code",
      "source": [
        "# setup true labels for evaluation\n",
        "true_labels = [dataset['train'][i]['category'] for i in range(len(dataset['train']))]\n",
        "len(true_labels)"
      ],
      "metadata": {
        "colab": {
          "base_uri": "https://localhost:8080/"
        },
        "id": "GMNBXrCeOEyP",
        "outputId": "3ddbde92-5743-4a3b-da5a-6835699e44f0"
      },
      "execution_count": 21,
      "outputs": [
        {
          "output_type": "execute_result",
          "data": {
            "text/plain": [
              "200"
            ]
          },
          "metadata": {},
          "execution_count": 21
        }
      ]
    },
    {
      "cell_type": "markdown",
      "source": [
        "# Setup"
      ],
      "metadata": {
        "id": "FbpDEhANVAE5"
      }
    },
    {
      "cell_type": "code",
      "source": [
        "def convert(number_preds: List[int])->List[str]:\n",
        "  tables = {\n",
        "      0 : 'positive',\n",
        "      1 : 'neutral',\n",
        "      2 : 'negative',\n",
        "      3 : 'question',\n",
        "  }\n",
        "  converted = []\n",
        "  for elem in number_preds:\n",
        "    converted.append(tables[elem])\n",
        "\n",
        "  return converted"
      ],
      "metadata": {
        "id": "Exby1ocQM-Xl"
      },
      "execution_count": 22,
      "outputs": []
    },
    {
      "cell_type": "code",
      "source": [
        "def evaluate(predictions: List):\n",
        "  references = true_labels\n",
        "  predictions = predictions\n",
        "\n",
        "  wrong_ans = []\n",
        "  correct = 0\n",
        "  for idx in range(len(predictions)):\n",
        "    if references[idx] == predictions[idx]:\n",
        "      correct += 1\n",
        "    else:\n",
        "      wrong_ans.append(str(idx))\n",
        "\n",
        "  acc = correct/len(predictions)\n",
        "\n",
        "  stats = {\n",
        "      'Accuracy (ความแม่นยำ)' : f'{acc*100} %',\n",
        "      'Correct Prediction (จำนวนข้อที่ตอบถูก)' : correct,\n",
        "      'Wrong Prediction (จำนวนข้อที่ตอบผิด)' : len(wrong_ans),\n",
        "      'ข้อที่ตอบผิด' : \" , \".join(wrong_ans),\n",
        "  }\n",
        "\n",
        "  return stats\n"
      ],
      "metadata": {
        "id": "nLz2UvzjNtX6"
      },
      "execution_count": 23,
      "outputs": []
    },
    {
      "cell_type": "code",
      "source": [
        "# setup the category column to text\n",
        "\n",
        "def setup(data_df: pd.DataFrame)->pd.DataFrame:\n",
        "  label_col = convert(list(data_df['category']))\n",
        "  data_df['category'] = label_col\n",
        "  return data_df"
      ],
      "metadata": {
        "id": "xk1Ou7h1UqJq"
      },
      "execution_count": 24,
      "outputs": []
    },
    {
      "cell_type": "code",
      "source": [
        "sentiment_data = setup(data_df)"
      ],
      "metadata": {
        "id": "R8a3uOpQXKL7"
      },
      "execution_count": 25,
      "outputs": []
    },
    {
      "cell_type": "markdown",
      "source": [
        "# `[Task 1]` Data Visualization - Take a look with the Data\n",
        "`Note`: Click the interactive table for visualization"
      ],
      "metadata": {
        "id": "p4i5YCiErrkE"
      }
    },
    {
      "cell_type": "code",
      "source": [
        "sentiment_data"
      ],
      "metadata": {
        "colab": {
          "base_uri": "https://localhost:8080/",
          "height": 424
        },
        "id": "qFNxqXI7sNt0",
        "outputId": "ccd1ff75-8d18-4db3-f95a-da80371f7de9"
      },
      "execution_count": 26,
      "outputs": [
        {
          "output_type": "execute_result",
          "data": {
            "text/plain": [
              "                                                 texts  category\n",
              "0    ซื้อแต่ผ้าอนามัยแบบเย็นมาค่ะ แบบว่าอีห่ากูนอนไ...  negative\n",
              "1                                     ครับ #phithanbkk   neutral\n",
              "2    การด่าไปเหมือนได้บรรเทาความเครียดเฉยๆ แต่บีทีเ...  negative\n",
              "3                                Cf clarins 5 ขวด 2850   neutral\n",
              "4    ทานได้ค่ะ น้ำซุป MK ต้มมาจากหัวผักกาด ซีอิ้วขา...   neutral\n",
              "..                                                 ...       ...\n",
              "195                                           ปะเวสเกต  positive\n",
              "196  ไป ShowDC มาค่ะ .. ถ้าห้างยังไม่เสร็จซะขนาดนี้...  negative\n",
              "197  ฝากทาง honda ช่วยเปลี่ยน กระจกเป็นทรงกลม ด้วยเ...   neutral\n",
              "198         สวย ราคาเท่าไหร่คะ ทดลองขับได้ที่ไหนบ้างคะ   neutral\n",
              "199                                    cf Clarins 2850   neutral\n",
              "\n",
              "[200 rows x 2 columns]"
            ],
            "text/html": [
              "\n",
              "  <div id=\"df-622eb363-206c-41ca-9b3d-eb7730c8461f\" class=\"colab-df-container\">\n",
              "    <div>\n",
              "<style scoped>\n",
              "    .dataframe tbody tr th:only-of-type {\n",
              "        vertical-align: middle;\n",
              "    }\n",
              "\n",
              "    .dataframe tbody tr th {\n",
              "        vertical-align: top;\n",
              "    }\n",
              "\n",
              "    .dataframe thead th {\n",
              "        text-align: right;\n",
              "    }\n",
              "</style>\n",
              "<table border=\"1\" class=\"dataframe\">\n",
              "  <thead>\n",
              "    <tr style=\"text-align: right;\">\n",
              "      <th></th>\n",
              "      <th>texts</th>\n",
              "      <th>category</th>\n",
              "    </tr>\n",
              "  </thead>\n",
              "  <tbody>\n",
              "    <tr>\n",
              "      <th>0</th>\n",
              "      <td>ซื้อแต่ผ้าอนามัยแบบเย็นมาค่ะ แบบว่าอีห่ากูนอนไ...</td>\n",
              "      <td>negative</td>\n",
              "    </tr>\n",
              "    <tr>\n",
              "      <th>1</th>\n",
              "      <td>ครับ #phithanbkk</td>\n",
              "      <td>neutral</td>\n",
              "    </tr>\n",
              "    <tr>\n",
              "      <th>2</th>\n",
              "      <td>การด่าไปเหมือนได้บรรเทาความเครียดเฉยๆ แต่บีทีเ...</td>\n",
              "      <td>negative</td>\n",
              "    </tr>\n",
              "    <tr>\n",
              "      <th>3</th>\n",
              "      <td>Cf clarins 5 ขวด 2850</td>\n",
              "      <td>neutral</td>\n",
              "    </tr>\n",
              "    <tr>\n",
              "      <th>4</th>\n",
              "      <td>ทานได้ค่ะ น้ำซุป MK ต้มมาจากหัวผักกาด ซีอิ้วขา...</td>\n",
              "      <td>neutral</td>\n",
              "    </tr>\n",
              "    <tr>\n",
              "      <th>...</th>\n",
              "      <td>...</td>\n",
              "      <td>...</td>\n",
              "    </tr>\n",
              "    <tr>\n",
              "      <th>195</th>\n",
              "      <td>ปะเวสเกต</td>\n",
              "      <td>positive</td>\n",
              "    </tr>\n",
              "    <tr>\n",
              "      <th>196</th>\n",
              "      <td>ไป ShowDC มาค่ะ .. ถ้าห้างยังไม่เสร็จซะขนาดนี้...</td>\n",
              "      <td>negative</td>\n",
              "    </tr>\n",
              "    <tr>\n",
              "      <th>197</th>\n",
              "      <td>ฝากทาง honda ช่วยเปลี่ยน กระจกเป็นทรงกลม ด้วยเ...</td>\n",
              "      <td>neutral</td>\n",
              "    </tr>\n",
              "    <tr>\n",
              "      <th>198</th>\n",
              "      <td>สวย ราคาเท่าไหร่คะ ทดลองขับได้ที่ไหนบ้างคะ</td>\n",
              "      <td>neutral</td>\n",
              "    </tr>\n",
              "    <tr>\n",
              "      <th>199</th>\n",
              "      <td>cf Clarins 2850</td>\n",
              "      <td>neutral</td>\n",
              "    </tr>\n",
              "  </tbody>\n",
              "</table>\n",
              "<p>200 rows × 2 columns</p>\n",
              "</div>\n",
              "    <div class=\"colab-df-buttons\">\n",
              "\n",
              "  <div class=\"colab-df-container\">\n",
              "    <button class=\"colab-df-convert\" onclick=\"convertToInteractive('df-622eb363-206c-41ca-9b3d-eb7730c8461f')\"\n",
              "            title=\"Convert this dataframe to an interactive table.\"\n",
              "            style=\"display:none;\">\n",
              "\n",
              "  <svg xmlns=\"http://www.w3.org/2000/svg\" height=\"24px\" viewBox=\"0 -960 960 960\">\n",
              "    <path d=\"M120-120v-720h720v720H120Zm60-500h600v-160H180v160Zm220 220h160v-160H400v160Zm0 220h160v-160H400v160ZM180-400h160v-160H180v160Zm440 0h160v-160H620v160ZM180-180h160v-160H180v160Zm440 0h160v-160H620v160Z\"/>\n",
              "  </svg>\n",
              "    </button>\n",
              "\n",
              "  <style>\n",
              "    .colab-df-container {\n",
              "      display:flex;\n",
              "      gap: 12px;\n",
              "    }\n",
              "\n",
              "    .colab-df-convert {\n",
              "      background-color: #E8F0FE;\n",
              "      border: none;\n",
              "      border-radius: 50%;\n",
              "      cursor: pointer;\n",
              "      display: none;\n",
              "      fill: #1967D2;\n",
              "      height: 32px;\n",
              "      padding: 0 0 0 0;\n",
              "      width: 32px;\n",
              "    }\n",
              "\n",
              "    .colab-df-convert:hover {\n",
              "      background-color: #E2EBFA;\n",
              "      box-shadow: 0px 1px 2px rgba(60, 64, 67, 0.3), 0px 1px 3px 1px rgba(60, 64, 67, 0.15);\n",
              "      fill: #174EA6;\n",
              "    }\n",
              "\n",
              "    .colab-df-buttons div {\n",
              "      margin-bottom: 4px;\n",
              "    }\n",
              "\n",
              "    [theme=dark] .colab-df-convert {\n",
              "      background-color: #3B4455;\n",
              "      fill: #D2E3FC;\n",
              "    }\n",
              "\n",
              "    [theme=dark] .colab-df-convert:hover {\n",
              "      background-color: #434B5C;\n",
              "      box-shadow: 0px 1px 3px 1px rgba(0, 0, 0, 0.15);\n",
              "      filter: drop-shadow(0px 1px 2px rgba(0, 0, 0, 0.3));\n",
              "      fill: #FFFFFF;\n",
              "    }\n",
              "  </style>\n",
              "\n",
              "    <script>\n",
              "      const buttonEl =\n",
              "        document.querySelector('#df-622eb363-206c-41ca-9b3d-eb7730c8461f button.colab-df-convert');\n",
              "      buttonEl.style.display =\n",
              "        google.colab.kernel.accessAllowed ? 'block' : 'none';\n",
              "\n",
              "      async function convertToInteractive(key) {\n",
              "        const element = document.querySelector('#df-622eb363-206c-41ca-9b3d-eb7730c8461f');\n",
              "        const dataTable =\n",
              "          await google.colab.kernel.invokeFunction('convertToInteractive',\n",
              "                                                    [key], {});\n",
              "        if (!dataTable) return;\n",
              "\n",
              "        const docLinkHtml = 'Like what you see? Visit the ' +\n",
              "          '<a target=\"_blank\" href=https://colab.research.google.com/notebooks/data_table.ipynb>data table notebook</a>'\n",
              "          + ' to learn more about interactive tables.';\n",
              "        element.innerHTML = '';\n",
              "        dataTable['output_type'] = 'display_data';\n",
              "        await google.colab.output.renderOutput(dataTable, element);\n",
              "        const docLink = document.createElement('div');\n",
              "        docLink.innerHTML = docLinkHtml;\n",
              "        element.appendChild(docLink);\n",
              "      }\n",
              "    </script>\n",
              "  </div>\n",
              "\n",
              "\n",
              "<div id=\"df-2d568924-2992-4b66-be7a-e8eda03951b5\">\n",
              "  <button class=\"colab-df-quickchart\" onclick=\"quickchart('df-2d568924-2992-4b66-be7a-e8eda03951b5')\"\n",
              "            title=\"Suggest charts\"\n",
              "            style=\"display:none;\">\n",
              "\n",
              "<svg xmlns=\"http://www.w3.org/2000/svg\" height=\"24px\"viewBox=\"0 0 24 24\"\n",
              "     width=\"24px\">\n",
              "    <g>\n",
              "        <path d=\"M19 3H5c-1.1 0-2 .9-2 2v14c0 1.1.9 2 2 2h14c1.1 0 2-.9 2-2V5c0-1.1-.9-2-2-2zM9 17H7v-7h2v7zm4 0h-2V7h2v10zm4 0h-2v-4h2v4z\"/>\n",
              "    </g>\n",
              "</svg>\n",
              "  </button>\n",
              "\n",
              "<style>\n",
              "  .colab-df-quickchart {\n",
              "      --bg-color: #E8F0FE;\n",
              "      --fill-color: #1967D2;\n",
              "      --hover-bg-color: #E2EBFA;\n",
              "      --hover-fill-color: #174EA6;\n",
              "      --disabled-fill-color: #AAA;\n",
              "      --disabled-bg-color: #DDD;\n",
              "  }\n",
              "\n",
              "  [theme=dark] .colab-df-quickchart {\n",
              "      --bg-color: #3B4455;\n",
              "      --fill-color: #D2E3FC;\n",
              "      --hover-bg-color: #434B5C;\n",
              "      --hover-fill-color: #FFFFFF;\n",
              "      --disabled-bg-color: #3B4455;\n",
              "      --disabled-fill-color: #666;\n",
              "  }\n",
              "\n",
              "  .colab-df-quickchart {\n",
              "    background-color: var(--bg-color);\n",
              "    border: none;\n",
              "    border-radius: 50%;\n",
              "    cursor: pointer;\n",
              "    display: none;\n",
              "    fill: var(--fill-color);\n",
              "    height: 32px;\n",
              "    padding: 0;\n",
              "    width: 32px;\n",
              "  }\n",
              "\n",
              "  .colab-df-quickchart:hover {\n",
              "    background-color: var(--hover-bg-color);\n",
              "    box-shadow: 0 1px 2px rgba(60, 64, 67, 0.3), 0 1px 3px 1px rgba(60, 64, 67, 0.15);\n",
              "    fill: var(--button-hover-fill-color);\n",
              "  }\n",
              "\n",
              "  .colab-df-quickchart-complete:disabled,\n",
              "  .colab-df-quickchart-complete:disabled:hover {\n",
              "    background-color: var(--disabled-bg-color);\n",
              "    fill: var(--disabled-fill-color);\n",
              "    box-shadow: none;\n",
              "  }\n",
              "\n",
              "  .colab-df-spinner {\n",
              "    border: 2px solid var(--fill-color);\n",
              "    border-color: transparent;\n",
              "    border-bottom-color: var(--fill-color);\n",
              "    animation:\n",
              "      spin 1s steps(1) infinite;\n",
              "  }\n",
              "\n",
              "  @keyframes spin {\n",
              "    0% {\n",
              "      border-color: transparent;\n",
              "      border-bottom-color: var(--fill-color);\n",
              "      border-left-color: var(--fill-color);\n",
              "    }\n",
              "    20% {\n",
              "      border-color: transparent;\n",
              "      border-left-color: var(--fill-color);\n",
              "      border-top-color: var(--fill-color);\n",
              "    }\n",
              "    30% {\n",
              "      border-color: transparent;\n",
              "      border-left-color: var(--fill-color);\n",
              "      border-top-color: var(--fill-color);\n",
              "      border-right-color: var(--fill-color);\n",
              "    }\n",
              "    40% {\n",
              "      border-color: transparent;\n",
              "      border-right-color: var(--fill-color);\n",
              "      border-top-color: var(--fill-color);\n",
              "    }\n",
              "    60% {\n",
              "      border-color: transparent;\n",
              "      border-right-color: var(--fill-color);\n",
              "    }\n",
              "    80% {\n",
              "      border-color: transparent;\n",
              "      border-right-color: var(--fill-color);\n",
              "      border-bottom-color: var(--fill-color);\n",
              "    }\n",
              "    90% {\n",
              "      border-color: transparent;\n",
              "      border-bottom-color: var(--fill-color);\n",
              "    }\n",
              "  }\n",
              "</style>\n",
              "\n",
              "  <script>\n",
              "    async function quickchart(key) {\n",
              "      const quickchartButtonEl =\n",
              "        document.querySelector('#' + key + ' button');\n",
              "      quickchartButtonEl.disabled = true;  // To prevent multiple clicks.\n",
              "      quickchartButtonEl.classList.add('colab-df-spinner');\n",
              "      try {\n",
              "        const charts = await google.colab.kernel.invokeFunction(\n",
              "            'suggestCharts', [key], {});\n",
              "      } catch (error) {\n",
              "        console.error('Error during call to suggestCharts:', error);\n",
              "      }\n",
              "      quickchartButtonEl.classList.remove('colab-df-spinner');\n",
              "      quickchartButtonEl.classList.add('colab-df-quickchart-complete');\n",
              "    }\n",
              "    (() => {\n",
              "      let quickchartButtonEl =\n",
              "        document.querySelector('#df-2d568924-2992-4b66-be7a-e8eda03951b5 button');\n",
              "      quickchartButtonEl.style.display =\n",
              "        google.colab.kernel.accessAllowed ? 'block' : 'none';\n",
              "    })();\n",
              "  </script>\n",
              "</div>\n",
              "    </div>\n",
              "  </div>\n"
            ]
          },
          "metadata": {},
          "execution_count": 26
        }
      ]
    },
    {
      "cell_type": "markdown",
      "source": [
        "### 1.1) Count an amount of each class in the `category` column in `sentiment_data` dataframe\n",
        "\n",
        "`Task`: Write a prompt to write a python code to count an amount of each class in the `category` column in `sentiment_data` dataframe"
      ],
      "metadata": {
        "id": "NVHFuH7WRPUs"
      }
    },
    {
      "cell_type": "code",
      "source": [
        "# write your code here\n",
        "# --------------------------\n",
        "\n",
        "\n",
        "\n",
        "# ---------------------------"
      ],
      "metadata": {
        "id": "ea2NBWBJR5DE"
      },
      "execution_count": 27,
      "outputs": []
    },
    {
      "cell_type": "markdown",
      "source": [
        "# `[Task 2]` Make a Prediction"
      ],
      "metadata": {
        "id": "vRCLCtbWsxg6"
      }
    },
    {
      "cell_type": "code",
      "source": [
        "test_text = 'สาขานี้พนักงานน่ารักให้บริการดี'"
      ],
      "metadata": {
        "id": "FxEnPcv2J7Z4"
      },
      "execution_count": 35,
      "outputs": []
    },
    {
      "cell_type": "markdown",
      "source": [
        "### 2.1) Pick the Most matched Sentiment Analysis Model from `AI For Thai`\n",
        "- Note that it is one of the model from `EmoNews`, `Ssense`, and `ThaiMoji` as provided by AI For Thai\n",
        "- the model must capable to predict all classes from Task 1"
      ],
      "metadata": {
        "id": "73BVoh4fKkGf"
      }
    },
    {
      "cell_type": "code",
      "source": [
        "# Your code here\n",
        "# paste it in the line below\n",
        "# ---------------------------------------------\n",
        "\n",
        "\n",
        "\n",
        "# ---------------------------------------------"
      ],
      "metadata": {
        "id": "S9y7WycFm-96"
      },
      "execution_count": 36,
      "outputs": []
    },
    {
      "cell_type": "code",
      "source": [
        "# if you pick the correct model, you will get a sentiment when running this code\n",
        "print('sentiment:',response.json()['sentiment']['polarity'])"
      ],
      "metadata": {
        "id": "DkUF7TbaXRE6"
      },
      "execution_count": null,
      "outputs": []
    },
    {
      "cell_type": "markdown",
      "source": [
        "2.2) After we can made a prediction, then, copy what you got from 2.1) and paste into `get_response` function. Note that you need to format it into the python function by indentation.\n",
        "\n",
        "`Task`:\n",
        "try to make the `get_response` function can be executed. An instruction can be asked by using your Prompt Engineering skill\n",
        "\n",
        "`Note`: beware that we must use the text to be an input text, not directly from API. Just only copy and paste will not help. Moreover, dont forgot about indentation"
      ],
      "metadata": {
        "id": "bD5eWaeNC3W6"
      }
    },
    {
      "cell_type": "code",
      "source": [
        "def get_response(text:str):\n",
        "  # ---------------------------------------------\n",
        "  # put after this blog\n",
        "  # bring your code to call a sentiment analysis model here !\n",
        "  # ---------------------------------------------\n",
        "\n",
        "\n",
        "\n",
        "\n",
        "\n",
        "\n",
        "  # ---------------------------------------------\n",
        "\n",
        "  return response"
      ],
      "metadata": {
        "id": "iue1MzQDf4rh"
      },
      "execution_count": 16,
      "outputs": []
    },
    {
      "cell_type": "code",
      "source": [
        "def predict(idx: int):\n",
        "  response = get_response(dataset['train'][idx]['texts'])\n",
        "  sent_intent = float(response.json()['intention']['sentiment'])\n",
        "  q_intent = float(response.json()['intention']['question'])\n",
        "\n",
        "  # if it is sure to be sentiment\n",
        "  if sent_intent >= q_intent:\n",
        "    format = response.json()['sentiment']['polarity']\n",
        "    if format == 'positive':\n",
        "      prediction = 0\n",
        "    elif format == '':\n",
        "      prediction = 1\n",
        "    else:\n",
        "      prediction = 2\n",
        "\n",
        "  else: # in case that there has more chance to be a question\n",
        "    prediction = 3\n",
        "\n",
        "  return prediction\n",
        "\n"
      ],
      "metadata": {
        "id": "TqwP0LNSX01C"
      },
      "execution_count": 49,
      "outputs": []
    },
    {
      "cell_type": "markdown",
      "source": [
        "### 2.2) Make a Predictions on Sentiment Analysis Dataset\n",
        "- this code will make a prediction with your selected model"
      ],
      "metadata": {
        "id": "uf4ECduesfEN"
      }
    },
    {
      "cell_type": "code",
      "source": [
        "\n",
        "preds = [] # testing on 30 questions is a good grief\n",
        "for i in tqdm(range(len(dataset['train']))):\n",
        "  try:\n",
        "    preds.append(predict(i))\n",
        "  except JSONDecodeError: # frequent case\n",
        "    preds.append(1)\n",
        "  except: # if it hasa traffic problem, just wait for 3 secs and recall it\n",
        "    time.sleep(3)\n",
        "    preds.append(predict(i))\n",
        "\n",
        "# check your prediction\n",
        "print(\"Your Prediction:\", convert(preds))"
      ],
      "metadata": {
        "id": "XEygXJhAcNUD"
      },
      "execution_count": null,
      "outputs": []
    },
    {
      "cell_type": "markdown",
      "source": [
        "Make an Evaluation with your Model prediction"
      ],
      "metadata": {
        "id": "PL47ckqAsjFM"
      }
    },
    {
      "cell_type": "code",
      "source": [
        "evaluate(preds)"
      ],
      "metadata": {
        "id": "2SOC0ZWeay4B"
      },
      "execution_count": null,
      "outputs": []
    },
    {
      "cell_type": "markdown",
      "source": [
        "Submit your first prediction to the leaderboard !"
      ],
      "metadata": {
        "id": "gGftdIWnOY52"
      }
    },
    {
      "cell_type": "code",
      "source": [
        "submission = pd.DataFrame({\n",
        "    'id_code': [i for i in range(len(dataset['train']))],\n",
        "    'category': preds,\n",
        "})\n",
        "submission.to_csv('submission.csv', index=False)"
      ],
      "metadata": {
        "id": "W_fN7t3aZa3n"
      },
      "execution_count": null,
      "outputs": []
    },
    {
      "cell_type": "code",
      "source": [
        "!kaggle competitions submit -c <competition name> -f submission.csv -m \"first submission\""
      ],
      "metadata": {
        "id": "Hi6ko190OYX1"
      },
      "execution_count": null,
      "outputs": []
    },
    {
      "cell_type": "markdown",
      "source": [
        "# `[Task 3]` Your Turn\n",
        " Congratulations !, your first model achieve 44% accuracy. Try to improve it to a better version by visualize the charateristics of the data in the dataset as shown in Task 1, after get a point, make a submission and see your placement on the leaderboard !"
      ],
      "metadata": {
        "id": "f3aZ_N5xKuvt"
      }
    },
    {
      "cell_type": "markdown",
      "source": [
        "## Setup for Task 3"
      ],
      "metadata": {
        "id": "JLTpyF1LPYbC"
      }
    },
    {
      "cell_type": "code",
      "source": [
        "# setup\n",
        "api_prediction = preds\n",
        "print(len(api_prediction))\n",
        "print(convert(api_prediction))"
      ],
      "metadata": {
        "id": "FISDB7Mwhs3d"
      },
      "execution_count": null,
      "outputs": []
    },
    {
      "cell_type": "code",
      "source": [
        "# let's visualize it and fill in the list, since the dataset is obvious\n",
        "\n",
        "def prediction_with_stopwords(\n",
        "    pos_words: List[str],\n",
        "    neg_words: List[str],\n",
        "    challenge_mode=False,\n",
        "    ):\n",
        "\n",
        "  if challenge_mode:\n",
        "    if (len(pos_words) > 5) or (len(neg_words) > 5):\n",
        "      raise ValueError(f\"the word in both Positive/Negative list must less than or equal to 5 words !\")\n",
        "\n",
        "  new_prediction = []\n",
        "  for idx, data in enumerate(dataset['train']):\n",
        "    hasKeyword = False\n",
        "\n",
        "    # positive is class 0\n",
        "    for word in pos_words:\n",
        "      if word in data['texts']:\n",
        "        hasKeyword = True\n",
        "        new_prediction.append(0)\n",
        "        break\n",
        "\n",
        "    if hasKeyword==False: # if it already have positive term, let it be positive\n",
        "      # negative is class 2\n",
        "      for word in neg_words:\n",
        "        if word in data['texts']:\n",
        "          hasKeyword = True\n",
        "          new_prediction.append(2)\n",
        "          break\n",
        "\n",
        "    # in case that there has no keyword occurred, prediction will still use API prediction\n",
        "    if hasKeyword == False:\n",
        "      new_prediction.append(api_prediction[idx])\n",
        "\n",
        "  return new_prediction\n"
      ],
      "metadata": {
        "id": "jhXJPuxOQPmJ"
      },
      "execution_count": 31,
      "outputs": []
    },
    {
      "cell_type": "markdown",
      "source": [
        "## 3.1) Define word you've got based on your Visualization on Task 1,\n",
        "\n",
        "`Task`: add more Positive and Negative word into list. In this task, the sentence that has positive word will be predicted as Positive, and the word that has Negative word will be predicted as Negative as well. Otherwise, it will be leave the same as previos prediction"
      ],
      "metadata": {
        "id": "4Gik69SeHiwK"
      }
    },
    {
      "cell_type": "code",
      "source": [
        "# example : ['ก', 'ข', 'ค']\n",
        "\n",
        "# --------- put your visualization here ---------------\n",
        "\n",
        "positive_words = ['ดี', '...']\n",
        "negative_words = ['ไม่ดี', '...']\n",
        "\n",
        "# ------------------------------------------------------\n",
        "\n",
        "\n",
        "# made a prediction\n",
        "new_prediction = prediction_with_stopwords(positive_words, negative_words)"
      ],
      "metadata": {
        "id": "4qDhys_xHhZV"
      },
      "execution_count": 32,
      "outputs": []
    },
    {
      "cell_type": "code",
      "source": [
        "evaluate(new_prediction)"
      ],
      "metadata": {
        "id": "IWN76yxArchB"
      },
      "execution_count": null,
      "outputs": []
    },
    {
      "cell_type": "markdown",
      "source": [
        "# Send your prediction to Kaggle"
      ],
      "metadata": {
        "id": "yPMZkZzWeFXG"
      }
    },
    {
      "cell_type": "code",
      "source": [
        "submission = pd.DataFrame({\n",
        "    'id_code': [i for i in range(len(dataset['train']))],\n",
        "    'category': new_prediction,\n",
        "})\n",
        "submission.to_csv('submission.csv', index=False)"
      ],
      "metadata": {
        "id": "xaqaGN-EZsOz"
      },
      "execution_count": null,
      "outputs": []
    },
    {
      "cell_type": "code",
      "source": [
        "!kaggle competitions submit -c <competition name> -f submission.csv -m \"make submission\""
      ],
      "metadata": {
        "id": "PUZ1xiq_azpW"
      },
      "execution_count": null,
      "outputs": []
    }
  ]
}